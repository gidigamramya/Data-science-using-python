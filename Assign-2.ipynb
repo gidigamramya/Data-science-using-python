{
 "cells": [
  {
   "cell_type": "code",
   "execution_count": 23,
   "id": "ba833a44",
   "metadata": {},
   "outputs": [
    {
     "name": "stdout",
     "output_type": "stream",
     "text": [
      "st1 data is\n",
      "name : ramya\n",
      "rollno : 21\n",
      "ssc : 10\n",
      "inter : 983\n",
      "cgpa : 9.29\n",
      "language : python\n",
      "- - - - - - \n",
      "st2 data is\n",
      "name : Tejaswi\n",
      "rollno : 9\n",
      "ssc : 10\n",
      "inter : 997\n",
      "cgpa : 9.5\n",
      "language : java\n",
      "- - - - - - \n",
      "st3 data is\n",
      "name : nikitha\n",
      "rollno : 23\n",
      "ssc : 10\n",
      "inter : 987\n",
      "cgpa : 9.3\n",
      "language : python\n",
      "- - - - - - \n"
     ]
    }
   ],
   "source": [
    "student_data={'st1':{'name':'ramya','rollno':21,'ssc':10,'inter':983,'cgpa':9.29,'language':'python'},'st2':{'name':'Tejaswi','rollno':9,'ssc':10,'inter':997,'cgpa':9.5,'language':'java'},'st3':\n",
    "             {'name':'nikitha','rollno':23,'ssc':10,'inter':987,'cgpa':9.3,'language':'python'}}\n",
    "#for key1,value1 in student_data[input()].items():\n",
    "       # print(key1,\":\",value1)\n",
    "for key,value in student_data.items():\n",
    "    print(key,\"data is\")\n",
    "    for key1,value1 in student_data[key].items():\n",
    "        print(key1,\":\",value1)\n",
    "    print(\"- - - - - - \")"
   ]
  },
  {
   "cell_type": "code",
   "execution_count": null,
   "id": "b4af1ad6",
   "metadata": {},
   "outputs": [],
   "source": []
  }
 ],
 "metadata": {
  "kernelspec": {
   "display_name": "Python 3",
   "language": "python",
   "name": "python3"
  },
  "language_info": {
   "codemirror_mode": {
    "name": "ipython",
    "version": 3
   },
   "file_extension": ".py",
   "mimetype": "text/x-python",
   "name": "python",
   "nbconvert_exporter": "python",
   "pygments_lexer": "ipython3",
   "version": "3.8.8"
  }
 },
 "nbformat": 4,
 "nbformat_minor": 5
}
