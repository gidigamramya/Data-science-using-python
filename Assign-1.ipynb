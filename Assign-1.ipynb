{
 "cells": [
  {
   "cell_type": "code",
   "execution_count": 4,
   "id": "8c14a412",
   "metadata": {},
   "outputs": [
    {
     "name": "stdout",
     "output_type": "stream",
     "text": [
      "200000\n",
      "3000\n",
      "40000\n",
      "no tax\n",
      "Total tax is 0\n"
     ]
    }
   ],
   "source": [
    "income=int(input())\n",
    "hra=int(input())\n",
    "deductions=int(input())\n",
    "tax=0\n",
    "ta=income-(hra*12)-deductions\n",
    "tax_amount=ta-300000\n",
    "if(tax_amount>300000 and tax_amount<=600000):\n",
    "    tax=tax_amount*0.1\n",
    "elif(tax_amount>600000 and tax_amount<=1000000):\n",
    "    tax=tax_amount*0.15\n",
    "elif(tax_amount>1000000):\n",
    "    tax=tax_amount*0.2\n",
    "else:\n",
    "    print(\"no tax\")\n",
    "print(\"Total tax is\",tax)"
   ]
  },
  {
   "cell_type": "code",
   "execution_count": null,
   "id": "1be6a03b",
   "metadata": {},
   "outputs": [],
   "source": []
  }
 ],
 "metadata": {
  "kernelspec": {
   "display_name": "Python 3",
   "language": "python",
   "name": "python3"
  },
  "language_info": {
   "codemirror_mode": {
    "name": "ipython",
    "version": 3
   },
   "file_extension": ".py",
   "mimetype": "text/x-python",
   "name": "python",
   "nbconvert_exporter": "python",
   "pygments_lexer": "ipython3",
   "version": "3.8.8"
  }
 },
 "nbformat": 4,
 "nbformat_minor": 5
}
