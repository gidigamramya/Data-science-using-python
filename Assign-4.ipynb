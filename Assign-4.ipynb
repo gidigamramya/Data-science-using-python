{
 "cells": [
  {
   "cell_type": "code",
   "execution_count": 14,
   "id": "0c945ab4",
   "metadata": {},
   "outputs": [
    {
     "name": "stdout",
     "output_type": "stream",
     "text": [
      "8\n",
      "8 is not a prime number\n",
      "8 is an even number\n",
      "8 is not divisible by 5\n",
      "sum of first 8 numbers is 36\n"
     ]
    }
   ],
   "source": [
    "def prime(n):\n",
    "    flag=True\n",
    "    for i in range(2,n):\n",
    "        if(n%i==0):\n",
    "            flag=False\n",
    "    if(flag):\n",
    "        print(n,\"is a prime number\")\n",
    "    else:\n",
    "        print(n,\"is not a prime number\")\n",
    "def even(n):\n",
    "    if(n%2==0):\n",
    "        print(n,\"is an even number\")\n",
    "    else:\n",
    "        print(n,\"is an odd number\")\n",
    "def div(n):\n",
    "    if(n%5==0):\n",
    "        print(n,\"is divisible by 5\")\n",
    "    else:\n",
    "        print(n,\"is not divisible by 5\")    \n",
    "n=int(input())\n",
    "prime(n)\n",
    "even(n)\n",
    "div(n)\n",
    "print(\"sum of first\",n,\"numbers is\",int((n*(n+1))/2))"
   ]
  },
  {
   "cell_type": "code",
   "execution_count": null,
   "id": "ddba3384",
   "metadata": {},
   "outputs": [],
   "source": []
  }
 ],
 "metadata": {
  "kernelspec": {
   "display_name": "Python 3",
   "language": "python",
   "name": "python3"
  },
  "language_info": {
   "codemirror_mode": {
    "name": "ipython",
    "version": 3
   },
   "file_extension": ".py",
   "mimetype": "text/x-python",
   "name": "python",
   "nbconvert_exporter": "python",
   "pygments_lexer": "ipython3",
   "version": "3.8.8"
  }
 },
 "nbformat": 4,
 "nbformat_minor": 5
}
